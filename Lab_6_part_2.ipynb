{
  "nbformat": 4,
  "nbformat_minor": 0,
  "metadata": {
    "colab": {
      "provenance": []
    },
    "kernelspec": {
      "name": "python3",
      "display_name": "Python 3"
    },
    "language_info": {
      "name": "python"
    }
  },
  "cells": [
    {
      "cell_type": "code",
      "execution_count": null,
      "metadata": {
        "id": "9THX7hSH0Y8D"
      },
      "outputs": [],
      "source": [
        "import requests \n",
        "import lxml\n",
        "from bs4 import BeautifulSoup\n",
        "from xlwt import*\n",
        "\n",
        "url = \"https://www.imdb.com/chart/top/\"\n",
        "\n",
        "#status code --> 200, 404 \n",
        "\n",
        "headers = {'User-Agent': 'Mozilla/ 5 .e (Macintosh; Intel mac OS X \\\n",
        "AppleWebKit/S37.36 (KHTML, like Gecko) Chrome/39.e.2171.95 Safari/537.36'}\n",
        "\n",
        "f = requests.get(url,headers)\n",
        "\n",
        "soup = BeautifulSoup(f.content, 'lxml' )\n",
        "\n",
        "table = soup.find('table', {'data-caller-name':'chart-top250movie'})\n",
        "tr = table.find_all(\"tr\")\n",
        "\n",
        "#print(tr)\n",
        "\n",
        "movies_list =[]\n",
        "num=0\n",
        "\n",
        "workbook = Workbook(encoding ='utf-8')\n",
        "table = workbook.add_sheet('data')\n",
        "table.write(0,0, 'Number')\n",
        "table.write(0,1, 'movie_url')\n",
        "table.write(0,2, 'movie_name')\n",
        "table.write(0,3, 'movie_introduction')\n",
        "line = 3\n",
        "\n",
        "for each_tr in tr:\n",
        "  td = each_tr.find_all('td',{'class':'titleColumn'})\n",
        "  #in each tr rown find each td cell\n",
        "\n",
        "  for each_td in td:\n",
        "    #print(each_td.text)\n",
        "\n",
        "    ulink = each_td.a['href']\n",
        "\n",
        "    url = 'https://www.imdb.com/' + ulink\n",
        "    movies_list.append(url)\n",
        "    num += 1\n",
        "    movie_url = url\n",
        "\n",
        "    movie_f = requests.get(movie_url, headers = headers)\n",
        "\n",
        "    movie_soup = BeautifulSoup(movie_f.content, 'lxml')\n",
        "\n",
        "\n",
        "    #movie_content = movie_soup.find('span', {'role':'presentation'})\n",
        "\n",
        "    movie_content = movie_soup.find('span', {'data-testid':'plot-xl'})\n",
        "\n",
        "    movie_title = movie_soup.find('h1')\n",
        "\n",
        "    #print(num,url, '\\n','Movie:' +str(movie_tile))\n",
        "    #print('Movie info:' + movie_content.string.strip())\n",
        "\n",
        "    table.write(line, 0, num)\n",
        "    table.write(line, 1, url)\n",
        "    table.write(line, 2, movie_title.string.strip())\n",
        "    table.write(line, 3, movie_content.string.strip())\n",
        "    line += 1\n",
        "    workbook.save('movie_top100.xls')"
      ]
    }
  ]
}