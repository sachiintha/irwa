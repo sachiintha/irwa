{
  "nbformat": 4,
  "nbformat_minor": 0,
  "metadata": {
    "colab": {
      "provenance": [],
      "collapsed_sections": []
    },
    "kernelspec": {
      "name": "python3",
      "display_name": "Python 3"
    },
    "language_info": {
      "name": "python"
    }
  },
  "cells": [
    {
      "cell_type": "code",
      "execution_count": 1,
      "metadata": {
        "id": "L-7bAxwwSTQf"
      },
      "outputs": [],
      "source": [
        "import requests\n",
        "import lxml\n",
        "from bs4 import BeautifulSoup\n",
        "from xlwt import *\n",
        "\n",
        "workbook = Workbook(encoding = 'utf-8')\n",
        "table = workbook.add_sheet('data')\n",
        "table.write(0, 0, 'Number')\n",
        "table.write(0, 1, 'movie_url')\n",
        "table.write(0, 2, 'movie_name')\n",
        "table.write(0, 3, 'movie_introduction')\n",
        "line = 1\n",
        "url = \"https://www.rottentomatoes.com/browse/movies_at_home/critics:certified_fresh?page=1\"\n",
        "headers = {\n",
        "  'User-Agent': 'Mozilla/5.0 (Windows NT 6.1; WOW64) AppleWebKit/537.36 (KHTML, like Gecko) Chrome/63.0.3239.132 Safari/537.36 QIHU 360SE'\n",
        "}\n",
        "\n",
        "f = requests.get(url, headers = headers)\n",
        "movies_lst = []\n",
        "soup = BeautifulSoup(f.content, 'lxml')\n",
        "movies = soup.find('div', {'class': 'discovery-grids-container'}).find_all('a')\n",
        "num = 0\n",
        "\n",
        "for anchor in movies:\n",
        "  urls = 'https://www.rottentomatoes.com' + anchor['href']\n",
        "  movies_lst.append(urls)\n",
        "  num += 1\n",
        "  movie_url = urls\n",
        "  movie_f = requests.get(movie_url, headers = headers)\n",
        "  movie_soup = BeautifulSoup(movie_f.content, 'lxml')\n",
        "  movie_content = movie_soup.find('div', {'class': 'movie_synopsis clamp clamp-6 js-clamp'})\n",
        "  movie_name = movie_soup.find(['h1'])\n",
        "  #print(num, urls, '\\n', 'Movie:' + anchor.string.strip())\n",
        "  #print('Movie info:' + movie_content.string.strip())\n",
        "  table.write(line, 0, num)\n",
        "  table.write(line, 1, urls)\n",
        "  table.write(line, 2, *movie_name)\n",
        "  table.write(line, 3, movie_content.string.strip())\n",
        "  line += 1\n",
        "  workbook.save('movies_top100_rotten_v2.xls')"
      ]
    }
  ]
}