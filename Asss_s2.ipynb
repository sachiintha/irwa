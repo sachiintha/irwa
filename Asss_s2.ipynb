{
  "nbformat": 4,
  "nbformat_minor": 0,
  "metadata": {
    "colab": {
      "provenance": [],
      "collapsed_sections": []
    },
    "kernelspec": {
      "name": "python3",
      "display_name": "Python 3"
    },
    "language_info": {
      "name": "python"
    }
  },
  "cells": [
    {
      "cell_type": "code",
      "execution_count": 7,
      "metadata": {
        "id": "rm0qW7eCLb0V",
        "colab": {
          "base_uri": "https://localhost:8080/"
        },
        "outputId": "0a0cbc95-a040-4f6e-835b-c41882c0d9f1"
      },
      "outputs": [
        {
          "output_type": "stream",
          "name": "stdout",
          "text": [
            "Looking in indexes: https://pypi.org/simple, https://us-python.pkg.dev/colab-wheels/public/simple/\n",
            "Requirement already satisfied: BeautifulSoup4 in /usr/local/lib/python3.7/dist-packages (4.6.3)\n",
            "Looking in indexes: https://pypi.org/simple, https://us-python.pkg.dev/colab-wheels/public/simple/\n",
            "Requirement already satisfied: lxml in /usr/local/lib/python3.7/dist-packages (4.9.1)\n"
          ]
        }
      ],
      "source": [
        "!pip install BeautifulSoup4\n",
        "!pip install lxml"
      ]
    },
    {
      "cell_type": "code",
      "source": [
        "from bs4 import BeautifulSoup\n",
        "import requests\n",
        "import pandas as pd"
      ],
      "metadata": {
        "id": "apMlJZYoMOPZ"
      },
      "execution_count": 8,
      "outputs": []
    },
    {
      "cell_type": "code",
      "source": [
        "URL = 'https://odel.lk/deal-products'\n",
        "page = requests.get(URL)"
      ],
      "metadata": {
        "id": "0rJ1Eie_L5uQ"
      },
      "execution_count": 9,
      "outputs": []
    },
    {
      "cell_type": "code",
      "source": [
        "soup = BeautifulSoup(page.content, 'lxml')\n",
        "\n",
        "data = pd.DataFrame(columns=['Product ID', 'Product Name', 'Current Price', 'Previous Price', 'Discount'])\n",
        "cards = soup.find_all('div', class_='col-sm-6 col-md-4 col-lg-3 p-b-35 product-tile-search')\n",
        "\n",
        "for card in cards:\n",
        "  discount = card.find('div', class_='product_tag_discount').text\n",
        "  prod_no = card.find('div', class_='block2-pic hov-img0').a['href'].split('/')[-1]\n",
        "  prod_name = card.find('div', class_='block2-txt-child1 flex-col-l').a.text.strip()\n",
        "  price = card.find('span', class_='stext-105 cl3').text.strip()\n",
        "  prev_price = card.find('del').text.strip()\n",
        "\n",
        "  data_dict = {\n",
        "      'Product ID': prod_no,\n",
        "      'Product Name': prod_name,\n",
        "      'Current Price': price,\n",
        "      'Previous Price': prev_price,\n",
        "      'Discount': discount\n",
        "  }\n",
        "\n",
        "  df = pd.DataFrame(data_dict, index=[0])\n",
        "  data = data.append(df, ignore_index=True)\n",
        "\n",
        "\n",
        "  print(f\"Discount: {discount} | Product ID: {prod_no} | Product Name: {prod_name} | Previous Price: {prev_price} | Price: {price}\")"
      ],
      "metadata": {
        "id": "98s_qzeqMeoq"
      },
      "execution_count": null,
      "outputs": []
    },
    {
      "cell_type": "code",
      "source": [
        "data"
      ],
      "metadata": {
        "id": "lK8-_JhUM_eb"
      },
      "execution_count": null,
      "outputs": []
    },
    {
      "cell_type": "code",
      "source": [
        "data.to_excel('Data.xlsx', index=False)"
      ],
      "metadata": {
        "id": "4d0PcaBiVELe"
      },
      "execution_count": 12,
      "outputs": []
    },
    {
      "cell_type": "code",
      "source": [],
      "metadata": {
        "id": "bJRpyAMEW-v2"
      },
      "execution_count": 12,
      "outputs": []
    }
  ]
}